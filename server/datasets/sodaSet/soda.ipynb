{
 "cells": [
  {
   "cell_type": "code",
   "execution_count": 1,
   "metadata": {},
   "outputs": [
    {
     "name": "stdout",
     "output_type": "stream",
     "text": [
      "Defaulting to user installation because normal site-packages is not writeable\n",
      "Collecting roboflow\n",
      "  Downloading roboflow-1.1.17-py3-none-any.whl.metadata (9.3 kB)\n",
      "Collecting certifi==2023.7.22 (from roboflow)\n",
      "  Downloading certifi-2023.7.22-py3-none-any.whl.metadata (2.2 kB)\n",
      "Collecting chardet==4.0.0 (from roboflow)\n",
      "  Downloading chardet-4.0.0-py2.py3-none-any.whl (178 kB)\n",
      "\u001b[2K     \u001b[90m━━━━━━━━━━━━━━━━━━━━━━━━━━━━━━━━━━━━━━━\u001b[0m \u001b[32m178.7/178.7 kB\u001b[0m \u001b[31m5.3 MB/s\u001b[0m eta \u001b[36m0:00:00\u001b[0m\n",
      "\u001b[?25hCollecting cycler==0.10.0 (from roboflow)\n",
      "  Downloading cycler-0.10.0-py2.py3-none-any.whl (6.5 kB)\n",
      "Collecting idna==2.10 (from roboflow)\n",
      "  Downloading idna-2.10-py2.py3-none-any.whl (58 kB)\n",
      "\u001b[2K     \u001b[90m━━━━━━━━━━━━━━━━━━━━━━━━━━━━━━━━━━━━━━━━\u001b[0m \u001b[32m58.8/58.8 kB\u001b[0m \u001b[31m6.2 MB/s\u001b[0m eta \u001b[36m0:00:00\u001b[0m\n",
      "\u001b[?25hRequirement already satisfied: kiwisolver>=1.3.1 in /Users/pranav/Library/Python/3.9/lib/python/site-packages (from roboflow) (1.4.5)\n",
      "Requirement already satisfied: matplotlib in /Users/pranav/Library/Python/3.9/lib/python/site-packages (from roboflow) (3.8.2)\n",
      "Requirement already satisfied: numpy>=1.18.5 in /Users/pranav/Library/Python/3.9/lib/python/site-packages (from roboflow) (1.26.2)\n",
      "Collecting opencv-python-headless==4.8.0.74 (from roboflow)\n",
      "  Downloading opencv_python_headless-4.8.0.74-cp37-abi3-macosx_11_0_arm64.whl.metadata (19 kB)\n",
      "Requirement already satisfied: Pillow>=7.1.2 in /Users/pranav/Library/Python/3.9/lib/python/site-packages (from roboflow) (10.2.0)\n",
      "Requirement already satisfied: python-dateutil in /Users/pranav/Library/Python/3.9/lib/python/site-packages (from roboflow) (2.8.2)\n",
      "Collecting python-dotenv (from roboflow)\n",
      "  Downloading python_dotenv-1.0.1-py3-none-any.whl.metadata (23 kB)\n",
      "Requirement already satisfied: requests in /Users/pranav/Library/Python/3.9/lib/python/site-packages (from roboflow) (2.31.0)\n",
      "Requirement already satisfied: six in /Library/Developer/CommandLineTools/Library/Frameworks/Python3.framework/Versions/3.9/lib/python3.9/site-packages (from roboflow) (1.15.0)\n",
      "Collecting supervision (from roboflow)\n",
      "  Downloading supervision-0.18.0-py3-none-any.whl.metadata (12 kB)\n",
      "Requirement already satisfied: urllib3>=1.26.6 in /Users/pranav/Library/Python/3.9/lib/python/site-packages (from roboflow) (1.26.18)\n",
      "Requirement already satisfied: tqdm>=4.41.0 in /Users/pranav/Library/Python/3.9/lib/python/site-packages (from roboflow) (4.66.1)\n",
      "Requirement already satisfied: PyYAML>=5.3.1 in /Users/pranav/Library/Python/3.9/lib/python/site-packages (from roboflow) (6.0.1)\n",
      "Collecting requests-toolbelt (from roboflow)\n",
      "  Downloading requests_toolbelt-1.0.0-py2.py3-none-any.whl (54 kB)\n",
      "\u001b[2K     \u001b[90m━━━━━━━━━━━━━━━━━━━━━━━━━━━━━━━━━━━━━━━━\u001b[0m \u001b[32m54.5/54.5 kB\u001b[0m \u001b[31m3.6 MB/s\u001b[0m eta \u001b[36m0:00:00\u001b[0m\n",
      "\u001b[?25hCollecting python-magic (from roboflow)\n",
      "  Downloading python_magic-0.4.27-py2.py3-none-any.whl (13 kB)\n",
      "Requirement already satisfied: contourpy>=1.0.1 in /Users/pranav/Library/Python/3.9/lib/python/site-packages (from matplotlib->roboflow) (1.2.0)\n",
      "Requirement already satisfied: fonttools>=4.22.0 in /Users/pranav/Library/Python/3.9/lib/python/site-packages (from matplotlib->roboflow) (4.47.2)\n",
      "Requirement already satisfied: packaging>=20.0 in /Users/pranav/Library/Python/3.9/lib/python/site-packages (from matplotlib->roboflow) (23.2)\n",
      "Requirement already satisfied: pyparsing>=2.3.1 in /Users/pranav/Library/Python/3.9/lib/python/site-packages (from matplotlib->roboflow) (3.1.1)\n",
      "Requirement already satisfied: importlib-resources>=3.2.0 in /Users/pranav/Library/Python/3.9/lib/python/site-packages (from matplotlib->roboflow) (6.1.1)\n",
      "Requirement already satisfied: charset-normalizer<4,>=2 in /Users/pranav/Library/Python/3.9/lib/python/site-packages (from requests->roboflow) (3.3.2)\n",
      "Requirement already satisfied: defusedxml<0.8.0,>=0.7.1 in /Users/pranav/Library/Python/3.9/lib/python/site-packages (from supervision->roboflow) (0.7.1)\n",
      "Requirement already satisfied: scipy<2.0.0,>=1.10.0 in /Users/pranav/Library/Python/3.9/lib/python/site-packages (from supervision->roboflow) (1.11.4)\n",
      "Requirement already satisfied: zipp>=3.1.0 in /Users/pranav/Library/Python/3.9/lib/python/site-packages (from importlib-resources>=3.2.0->matplotlib->roboflow) (3.17.0)\n",
      "Downloading roboflow-1.1.17-py3-none-any.whl (70 kB)\n",
      "\u001b[2K   \u001b[90m━━━━━━━━━━━━━━━━━━━━━━━━━━━━━━━━━━━━━━━━\u001b[0m \u001b[32m70.0/70.0 kB\u001b[0m \u001b[31m6.7 MB/s\u001b[0m eta \u001b[36m0:00:00\u001b[0m\n",
      "\u001b[?25hDownloading certifi-2023.7.22-py3-none-any.whl (158 kB)\n",
      "\u001b[2K   \u001b[90m━━━━━━━━━━━━━━━━━━━━━━━━━━━━━━━━━━━━━━━━\u001b[0m \u001b[32m158.3/158.3 kB\u001b[0m \u001b[31m12.2 MB/s\u001b[0m eta \u001b[36m0:00:00\u001b[0m\n",
      "\u001b[?25hDownloading opencv_python_headless-4.8.0.74-cp37-abi3-macosx_11_0_arm64.whl (33.1 MB)\n",
      "\u001b[2K   \u001b[90m━━━━━━━━━━━━━━━━━━━━━━━━━━━━━━━━━━━━━━━━\u001b[0m \u001b[32m33.1/33.1 MB\u001b[0m \u001b[31m10.2 MB/s\u001b[0m eta \u001b[36m0:00:00\u001b[0m00:01\u001b[0m00:01\u001b[0m\n",
      "\u001b[?25hDownloading python_dotenv-1.0.1-py3-none-any.whl (19 kB)\n",
      "Downloading supervision-0.18.0-py3-none-any.whl (86 kB)\n",
      "\u001b[2K   \u001b[90m━━━━━━━━━━━━━━━━━━━━━━━━━━━━━━━━━━━━━━━━\u001b[0m \u001b[32m86.7/86.7 kB\u001b[0m \u001b[31m5.5 MB/s\u001b[0m eta \u001b[36m0:00:00\u001b[0m\n",
      "\u001b[?25hInstalling collected packages: python-magic, python-dotenv, opencv-python-headless, idna, cycler, chardet, certifi, supervision, requests-toolbelt, roboflow\n",
      "  Attempting uninstall: opencv-python-headless\n",
      "    Found existing installation: opencv-python-headless 4.9.0.80\n",
      "    Uninstalling opencv-python-headless-4.9.0.80:\n",
      "      Successfully uninstalled opencv-python-headless-4.9.0.80\n",
      "  Attempting uninstall: idna\n",
      "    Found existing installation: idna 3.4\n",
      "    Uninstalling idna-3.4:\n",
      "      Successfully uninstalled idna-3.4\n",
      "  Attempting uninstall: cycler\n",
      "    Found existing installation: cycler 0.12.1\n",
      "    Uninstalling cycler-0.12.1:\n",
      "      Successfully uninstalled cycler-0.12.1\n",
      "  Attempting uninstall: certifi\n",
      "    Found existing installation: certifi 2023.11.17\n",
      "    Uninstalling certifi-2023.11.17:\n",
      "      Successfully uninstalled certifi-2023.11.17\n",
      "Successfully installed certifi-2023.7.22 chardet-4.0.0 cycler-0.10.0 idna-2.10 opencv-python-headless-4.8.0.74 python-dotenv-1.0.1 python-magic-0.4.27 requests-toolbelt-1.0.0 roboflow-1.1.17 supervision-0.18.0\n",
      "\n",
      "\u001b[1m[\u001b[0m\u001b[34;49mnotice\u001b[0m\u001b[1;39;49m]\u001b[0m\u001b[39;49m A new release of pip is available: \u001b[0m\u001b[31;49m23.3.1\u001b[0m\u001b[39;49m -> \u001b[0m\u001b[32;49m23.3.2\u001b[0m\n",
      "\u001b[1m[\u001b[0m\u001b[34;49mnotice\u001b[0m\u001b[1;39;49m]\u001b[0m\u001b[39;49m To update, run: \u001b[0m\u001b[32;49m/Library/Developer/CommandLineTools/usr/bin/python3 -m pip install --upgrade pip\u001b[0m\n"
     ]
    }
   ],
   "source": [
    "!pip install roboflow"
   ]
  },
  {
   "cell_type": "code",
   "execution_count": 2,
   "metadata": {},
   "outputs": [
    {
     "name": "stdout",
     "output_type": "stream",
     "text": [
      "loading Roboflow workspace...\n",
      "loading Roboflow project...\n"
     ]
    }
   ],
   "source": [
    "from roboflow import Roboflow\n",
    "rf = Roboflow(api_key=\"2X4JRhaChQhCtk06zZ9q\")\n",
    "project = rf.workspace().project(\"soda-bottles\")\n",
    "model = project.version(3).model\n",
    "\n"
   ]
  },
  {
   "cell_type": "code",
   "execution_count": 3,
   "metadata": {},
   "outputs": [
    {
     "name": "stdout",
     "output_type": "stream",
     "text": [
      "{'predictions': [{'x': 263.0, 'y': 273.0, 'width': 108.0, 'height': 220.0, 'confidence': 0.4293592572212219, 'class': 'sprite', 'class_id': 2, 'image_path': 'coke.jpg', 'prediction_type': 'ObjectDetectionModel'}, {'x': 388.0, 'y': 230.5, 'width': 112.0, 'height': 243.0, 'confidence': 0.31983640789985657, 'class': 'coca-cola', 'class_id': 0, 'image_path': 'coke.jpg', 'prediction_type': 'ObjectDetectionModel'}, {'x': 23.0, 'y': 306.5, 'width': 42.0, 'height': 125.0, 'confidence': 0.3192240595817566, 'class': 'coca-cola', 'class_id': 0, 'image_path': 'coke.jpg', 'prediction_type': 'ObjectDetectionModel'}, {'x': 388.5, 'y': 245.5, 'width': 109.0, 'height': 231.0, 'confidence': 0.2554909288883209, 'class': 'sprite', 'class_id': 2, 'image_path': 'coke.jpg', 'prediction_type': 'ObjectDetectionModel'}], 'image': {'width': '640', 'height': '428'}}\n"
     ]
    }
   ],
   "source": [
    "# infer on a local image\n",
    "print(model.predict(\"coke.jpg\", confidence=20, overlap=30).json())"
   ]
  },
  {
   "cell_type": "code",
   "execution_count": null,
   "metadata": {},
   "outputs": [],
   "source": [
    "def predictSoda(imagePath)->JSON:\n",
    "    return model.predict(imagePath, confidence=25, overlap=30).json"
   ]
  }
 ],
 "metadata": {
  "kernelspec": {
   "display_name": "Python 3",
   "language": "python",
   "name": "python3"
  },
  "language_info": {
   "codemirror_mode": {
    "name": "ipython",
    "version": 3
   },
   "file_extension": ".py",
   "mimetype": "text/x-python",
   "name": "python",
   "nbconvert_exporter": "python",
   "pygments_lexer": "ipython3",
   "version": "3.9.6"
  },
  "orig_nbformat": 4
 },
 "nbformat": 4,
 "nbformat_minor": 2
}
