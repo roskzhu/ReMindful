{
 "cells": [
  {
   "cell_type": "code",
   "execution_count": 1,
   "metadata": {},
   "outputs": [
    {
     "name": "stdout",
     "output_type": "stream",
     "text": [
      "Defaulting to user installation because normal site-packages is not writeable\n",
      "Requirement already satisfied: roboflow in /Users/pranav/Library/Python/3.9/lib/python/site-packages (1.1.17)\n",
      "Requirement already satisfied: certifi==2023.7.22 in /Users/pranav/Library/Python/3.9/lib/python/site-packages (from roboflow) (2023.7.22)\n",
      "Requirement already satisfied: chardet==4.0.0 in /Users/pranav/Library/Python/3.9/lib/python/site-packages (from roboflow) (4.0.0)\n",
      "Requirement already satisfied: cycler==0.10.0 in /Users/pranav/Library/Python/3.9/lib/python/site-packages (from roboflow) (0.10.0)\n",
      "Requirement already satisfied: idna==2.10 in /Users/pranav/Library/Python/3.9/lib/python/site-packages (from roboflow) (2.10)\n",
      "Requirement already satisfied: kiwisolver>=1.3.1 in /Users/pranav/Library/Python/3.9/lib/python/site-packages (from roboflow) (1.4.5)\n",
      "Requirement already satisfied: matplotlib in /Users/pranav/Library/Python/3.9/lib/python/site-packages (from roboflow) (3.8.2)\n",
      "Requirement already satisfied: numpy>=1.18.5 in /Users/pranav/Library/Python/3.9/lib/python/site-packages (from roboflow) (1.26.2)\n",
      "Requirement already satisfied: opencv-python-headless==4.8.0.74 in /Users/pranav/Library/Python/3.9/lib/python/site-packages (from roboflow) (4.8.0.74)\n",
      "Requirement already satisfied: Pillow>=7.1.2 in /Users/pranav/Library/Python/3.9/lib/python/site-packages (from roboflow) (10.2.0)\n",
      "Requirement already satisfied: python-dateutil in /Users/pranav/Library/Python/3.9/lib/python/site-packages (from roboflow) (2.8.2)\n",
      "Requirement already satisfied: python-dotenv in /Users/pranav/Library/Python/3.9/lib/python/site-packages (from roboflow) (1.0.1)\n",
      "Requirement already satisfied: requests in /Users/pranav/Library/Python/3.9/lib/python/site-packages (from roboflow) (2.31.0)\n",
      "Requirement already satisfied: six in /Users/pranav/Library/Python/3.9/lib/python/site-packages (from roboflow) (1.16.0)\n",
      "Requirement already satisfied: supervision in /Users/pranav/Library/Python/3.9/lib/python/site-packages (from roboflow) (0.18.0)\n",
      "Requirement already satisfied: urllib3>=1.26.6 in /Users/pranav/Library/Python/3.9/lib/python/site-packages (from roboflow) (1.26.18)\n",
      "Requirement already satisfied: tqdm>=4.41.0 in /Users/pranav/Library/Python/3.9/lib/python/site-packages (from roboflow) (4.66.1)\n",
      "Requirement already satisfied: PyYAML>=5.3.1 in /Users/pranav/Library/Python/3.9/lib/python/site-packages (from roboflow) (6.0.1)\n",
      "Requirement already satisfied: requests-toolbelt in /Users/pranav/Library/Python/3.9/lib/python/site-packages (from roboflow) (1.0.0)\n",
      "Requirement already satisfied: python-magic in /Users/pranav/Library/Python/3.9/lib/python/site-packages (from roboflow) (0.4.27)\n",
      "Requirement already satisfied: contourpy>=1.0.1 in /Users/pranav/Library/Python/3.9/lib/python/site-packages (from matplotlib->roboflow) (1.2.0)\n",
      "Requirement already satisfied: fonttools>=4.22.0 in /Users/pranav/Library/Python/3.9/lib/python/site-packages (from matplotlib->roboflow) (4.47.2)\n",
      "Requirement already satisfied: packaging>=20.0 in /Users/pranav/Library/Python/3.9/lib/python/site-packages (from matplotlib->roboflow) (23.2)\n",
      "Requirement already satisfied: pyparsing>=2.3.1 in /Users/pranav/Library/Python/3.9/lib/python/site-packages (from matplotlib->roboflow) (3.1.1)\n",
      "Requirement already satisfied: importlib-resources>=3.2.0 in /Users/pranav/Library/Python/3.9/lib/python/site-packages (from matplotlib->roboflow) (6.1.1)\n",
      "Requirement already satisfied: charset-normalizer<4,>=2 in /Users/pranav/Library/Python/3.9/lib/python/site-packages (from requests->roboflow) (3.3.2)\n",
      "Requirement already satisfied: defusedxml<0.8.0,>=0.7.1 in /Users/pranav/Library/Python/3.9/lib/python/site-packages (from supervision->roboflow) (0.7.1)\n",
      "Requirement already satisfied: scipy<2.0.0,>=1.10.0 in /Users/pranav/Library/Python/3.9/lib/python/site-packages (from supervision->roboflow) (1.11.4)\n",
      "Requirement already satisfied: zipp>=3.1.0 in /Users/pranav/Library/Python/3.9/lib/python/site-packages (from importlib-resources>=3.2.0->matplotlib->roboflow) (3.17.0)\n",
      "\n",
      "\u001b[1m[\u001b[0m\u001b[34;49mnotice\u001b[0m\u001b[1;39;49m]\u001b[0m\u001b[39;49m A new release of pip is available: \u001b[0m\u001b[31;49m23.3.1\u001b[0m\u001b[39;49m -> \u001b[0m\u001b[32;49m23.3.2\u001b[0m\n",
      "\u001b[1m[\u001b[0m\u001b[34;49mnotice\u001b[0m\u001b[1;39;49m]\u001b[0m\u001b[39;49m To update, run: \u001b[0m\u001b[32;49m/Library/Developer/CommandLineTools/usr/bin/python3 -m pip install --upgrade pip\u001b[0m\n"
     ]
    }
   ],
   "source": [
    "!pip install roboflow"
   ]
  },
  {
   "cell_type": "code",
   "execution_count": 4,
   "metadata": {},
   "outputs": [
    {
     "name": "stdout",
     "output_type": "stream",
     "text": [
      "loading Roboflow workspace...\n",
      "loading Roboflow project...\n",
      "{'predictions': [{'x': 245.5, 'y': 369.5, 'width': 145.0, 'height': 251.0, 'confidence': 0.7064935564994812, 'class': 'phone', 'class_id': 0, 'image_path': 'phone.jpeg', 'prediction_type': 'ObjectDetectionModel'}], 'image': {'width': '480', 'height': '640'}}\n"
     ]
    }
   ],
   "source": [
    "from roboflow import Roboflow\n",
    "import json\n",
    "\n",
    "rf = Roboflow(api_key=\"2X4JRhaChQhCtk06zZ9q\")\n",
    "project = rf.workspace().project(\"phone-55ped\")\n",
    "model = project.version(1).model\n",
    "\n",
    "print(model.predict(\"phone.jpeg\", confidence=25, overlap=30).json())\n",
    "\n",
    "def predictPhone(imagePath)->json:\n",
    "    return model.predict(imagePath, confidence=25, overlap=30).json()"
   ]
  },
  {
   "cell_type": "code",
   "execution_count": null,
   "metadata": {},
   "outputs": [],
   "source": []
  },
  {
   "cell_type": "code",
   "execution_count": null,
   "metadata": {},
   "outputs": [],
   "source": []
  }
 ],
 "metadata": {
  "kernelspec": {
   "display_name": "Python 3",
   "language": "python",
   "name": "python3"
  },
  "language_info": {
   "codemirror_mode": {
    "name": "ipython",
    "version": 3
   },
   "file_extension": ".py",
   "mimetype": "text/x-python",
   "name": "python",
   "nbconvert_exporter": "python",
   "pygments_lexer": "ipython3",
   "version": "3.9.6"
  },
  "orig_nbformat": 4
 },
 "nbformat": 4,
 "nbformat_minor": 2
}
